{
 "cells": [
  {
   "cell_type": "markdown",
   "id": "b80a63ec-9fba-4b7a-83da-21fba19e9c6d",
   "metadata": {},
   "source": [
    "## Importing Libraries"
   ]
  },
  {
   "cell_type": "code",
   "execution_count": 44,
   "id": "98f35b6e-2ef0-4021-8fa6-4d0607ff9e19",
   "metadata": {},
   "outputs": [],
   "source": [
    "import pandas as pd\n",
    "import numpy as np"
   ]
  },
  {
   "cell_type": "markdown",
   "id": "fd6dc9b1-de10-4bbc-972e-d935f099ddef",
   "metadata": {},
   "source": [
    "## Loading Dataset"
   ]
  },
  {
   "cell_type": "code",
   "execution_count": 45,
   "id": "24d9da99-aa11-4a7c-8e55-5ebb58da96c9",
   "metadata": {},
   "outputs": [],
   "source": [
    "dataset = pd.read_csv(\"datasets/50_Startups.csv\")"
   ]
  },
  {
   "cell_type": "code",
   "execution_count": 46,
   "id": "38bc6b09-56c7-4480-871b-cdb2704407b0",
   "metadata": {},
   "outputs": [],
   "source": [
    "X = dataset.iloc[:, :4].values # or X = dataset.iloc[:,:-1].values"
   ]
  },
  {
   "cell_type": "code",
   "execution_count": 47,
   "id": "6a33ed66-f363-4f79-98d1-73d8689745b4",
   "metadata": {},
   "outputs": [],
   "source": [
    "Y = dataset.iloc[:, 4].values"
   ]
  },
  {
   "cell_type": "markdown",
   "id": "6d75cb90-168a-415d-979a-94479605910f",
   "metadata": {},
   "source": [
    "## Encoding Data"
   ]
  },
  {
   "cell_type": "markdown",
   "id": "18997a3d-a57e-4c44-b2d7-31d75bda4c69",
   "metadata": {},
   "source": [
    "* Label Encoding in Python can be achieved using Sklearn Library. Sklearn provides a very efficient tool for encoding the levels of categorical features into numeric values. LabelEncoder encode labels with a value between 0 and n_classes-1 where n is the number of distinct labels.\n",
    "* OneHotEncoder. This encoding is needed for feeding categorical data to many scikit-learn estimators, notably linear models and SVMs with the standard kernels."
   ]
  },
  {
   "cell_type": "code",
   "execution_count": 48,
   "id": "261ce72d-2431-47c3-9b34-1712805ff5e5",
   "metadata": {},
   "outputs": [],
   "source": [
    "from sklearn.preprocessing import LabelEncoder, OneHotEncoder\n",
    "from sklearn.compose import ColumnTransformer # equivalent code for OneHotEncoder\n",
    "X[: , 3] = labelencoder.fit_transform(X[ : , 3])\n",
    "# onehotencoder = OneHotEncoder(categorical_features = [3]) \n",
    "ct = ColumnTransformer([(\"State\", OneHotEncoder(), [3])], remainder = 'passthrough')\n",
    "X = ct.fit_transform(X)"
   ]
  },
  {
   "cell_type": "markdown",
   "id": "489f00c1-925f-49e2-88fd-f3d11c39b373",
   "metadata": {},
   "source": [
    "## Avoiding Dummy Variable Trap"
   ]
  },
  {
   "cell_type": "code",
   "execution_count": 49,
   "id": "1dcf2b9b-d45b-4608-ad60-2ca8f5c269b6",
   "metadata": {},
   "outputs": [],
   "source": [
    "X = X[:,1:]"
   ]
  },
  {
   "cell_type": "markdown",
   "id": "e8834227-5f37-4495-9734-a008300ad5f2",
   "metadata": {},
   "source": [
    "## Splitting Dataset Into Training And Testing Set"
   ]
  },
  {
   "cell_type": "code",
   "execution_count": 50,
   "id": "91f285f2-4357-4365-b206-eba41ac6e5e8",
   "metadata": {},
   "outputs": [],
   "source": [
    "from sklearn.model_selection import train_test_split\n",
    "X_train, X_test, Y_train, Y_test = train_test_split(X, Y, test_size = 0.2, random_state = 0)"
   ]
  },
  {
   "cell_type": "markdown",
   "id": "8cc4e890-b3df-46d4-9e35-16f4d136ad65",
   "metadata": {},
   "source": [
    "## Fitting Multiple Linear Regression To The Training Set"
   ]
  },
  {
   "cell_type": "code",
   "execution_count": 51,
   "id": "a7290b9c-63dc-4f37-a4f4-f9f7759c1f27",
   "metadata": {},
   "outputs": [
    {
     "data": {
      "text/plain": [
       "LinearRegression()"
      ]
     },
     "execution_count": 51,
     "metadata": {},
     "output_type": "execute_result"
    }
   ],
   "source": [
    "from sklearn.linear_model import LinearRegression\n",
    "regressor = LinearRegression()\n",
    "regressor.fit(X_train, Y_train)"
   ]
  },
  {
   "cell_type": "markdown",
   "id": "5e98b6d8-c7c2-45cc-817f-47a3d5e7e40e",
   "metadata": {},
   "source": [
    "## Predicting the Test set results"
   ]
  },
  {
   "cell_type": "code",
   "execution_count": 52,
   "id": "53d0ac7b-b308-4d06-8924-bce6235cdadd",
   "metadata": {
    "tags": []
   },
   "outputs": [],
   "source": [
    "Y_pred = regressor.predict(X_test)"
   ]
  },
  {
   "cell_type": "markdown",
   "id": "1dfc916a-1b14-4761-bbcc-046a1a426045",
   "metadata": {},
   "source": [
    "## Calculating Accuracy"
   ]
  },
  {
   "cell_type": "code",
   "execution_count": 53,
   "id": "0dbe1799-cedf-4eae-96c0-3fc3754de271",
   "metadata": {},
   "outputs": [
    {
     "data": {
      "text/plain": [
       "0.9347068473282446"
      ]
     },
     "execution_count": 53,
     "metadata": {},
     "output_type": "execute_result"
    }
   ],
   "source": [
    "from sklearn.metrics import r2_score\n",
    "r2_score(Y_test, Y_pred)"
   ]
  }
 ],
 "metadata": {
  "kernelspec": {
   "display_name": "Python 3",
   "language": "python",
   "name": "python3"
  },
  "language_info": {
   "codemirror_mode": {
    "name": "ipython",
    "version": 3
   },
   "file_extension": ".py",
   "mimetype": "text/x-python",
   "name": "python",
   "nbconvert_exporter": "python",
   "pygments_lexer": "ipython3",
   "version": "3.8.8"
  }
 },
 "nbformat": 4,
 "nbformat_minor": 5
}
