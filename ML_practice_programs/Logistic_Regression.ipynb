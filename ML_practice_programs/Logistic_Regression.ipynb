{
 "cells": [
  {
   "cell_type": "markdown",
   "id": "66156d71-8f5e-4b74-8d93-2b76462dac51",
   "metadata": {},
   "source": [
    "# Importing Libraries"
   ]
  },
  {
   "cell_type": "code",
   "execution_count": 13,
   "id": "b1ed98f1-22a7-4235-bf9f-6e333e33bce2",
   "metadata": {},
   "outputs": [],
   "source": [
    "import pandas as pd\n",
    "import numpy as np\n",
    "import matplotlib.pyplot as plt"
   ]
  },
  {
   "cell_type": "markdown",
   "id": "cde62144-5029-4370-8edd-fa39c372cf45",
   "metadata": {},
   "source": [
    "# Loading Dataset\n",
    "## Note:-\n",
    "This dataset contains information of users in a social network. Those informations are the user id the gender the age and the estimated salary. A car company has just launched their brand new luxury SUV. And we're trying to see which of these users of the social network are going to buy this brand new SUV And the last column here tells <u><b> If yes or no the user bought this SUV we are going to build a model that is going to predict if a user is going to buy or not the SUV based on two variables which are going to be the age and the estimated salary.</b></u>  So our matrix of feature is only going to be these two columns. We want to find some correlations between the age and the estimated salary of a user and his decision to purchase yes or no the SUV."
   ]
  },
  {
   "cell_type": "code",
   "execution_count": 14,
   "id": "9cb61709-c59a-4333-b815-7292d2df19d3",
   "metadata": {},
   "outputs": [],
   "source": [
    "dataset = pd.read_csv(\"datasets/Social_Network_Ads.csv\")"
   ]
  },
  {
   "cell_type": "code",
   "execution_count": 15,
   "id": "2eeffa6a-9e74-4d06-828b-2f2cd45d0459",
   "metadata": {},
   "outputs": [],
   "source": [
    "X = dataset.iloc[:,[2,3]].values\n",
    "Y = dataset.iloc[:, 4].values"
   ]
  },
  {
   "cell_type": "markdown",
   "id": "e1dfe41c-dfe7-47ba-8239-f53630e3a2dc",
   "metadata": {},
   "source": [
    "# Splitting The Dataset Into Training And Testing Set"
   ]
  },
  {
   "cell_type": "code",
   "execution_count": 23,
   "id": "ba8904fe-780a-43d0-9afd-679e0e55478c",
   "metadata": {},
   "outputs": [
    {
     "data": {
      "text/plain": [
       "(300, 100, 100, 300)"
      ]
     },
     "execution_count": 23,
     "metadata": {},
     "output_type": "execute_result"
    }
   ],
   "source": [
    "len(X_train),len(X_test),len(Y_test),len(Y_train)"
   ]
  },
  {
   "cell_type": "markdown",
   "id": "ffe24e98-3488-49e7-b712-32ecac825e8d",
   "metadata": {},
   "source": [
    "# Feature Scaling\n",
    "* <b>Feature scaling is essential for machine learning algorithms that calculate distances between data.</b>\n",
    "* Feature Scaling is a technique to standardize the independent features present in the data in a fixed range.If feature scaling is not done, then a machine learning algorithm tends to weigh greater values, higher and consider smaller values as the lower values, regardless of the unit of the values.\n",
    "* #### Formula :- \n",
    "##### X(new) =  Xi - MIN(X) / MAX(X) - MIN(X)"
   ]
  },
  {
   "cell_type": "code",
   "execution_count": 17,
   "id": "af9b4b67-6054-4cb3-8736-c713f325efdc",
   "metadata": {},
   "outputs": [],
   "source": [
    "from sklearn.preprocessing import StandardScaler\n",
    "sc = StandardScaler()\n",
    "X_train = sc.fit_transform(X_train)\n",
    "X_test = sc.fit_transform(X_test)"
   ]
  },
  {
   "cell_type": "markdown",
   "id": "75c8157e-7ee8-42a3-990e-1934ec7ef56c",
   "metadata": {},
   "source": [
    "# Fitting Logistic Regression to Train the set"
   ]
  },
  {
   "cell_type": "code",
   "execution_count": 18,
   "id": "dafc62eb-9994-4055-9e6c-2f2efa9a4a8f",
   "metadata": {},
   "outputs": [
    {
     "data": {
      "text/plain": [
       "LogisticRegression()"
      ]
     },
     "execution_count": 18,
     "metadata": {},
     "output_type": "execute_result"
    }
   ],
   "source": [
    "from sklearn.linear_model import LogisticRegression\n",
    "logmodel = LogisticRegression()\n",
    "logmodel.fit(X_train, Y_train)"
   ]
  },
  {
   "cell_type": "markdown",
   "id": "23d5478c-91c1-4ba2-8e57-ea214a52630a",
   "metadata": {},
   "source": [
    "# Predicting the test set results"
   ]
  },
  {
   "cell_type": "code",
   "execution_count": 19,
   "id": "2077e718-9d11-4cad-97ca-a4e6f587652f",
   "metadata": {},
   "outputs": [],
   "source": [
    "Y_pred = logmodel.predict(X_test)"
   ]
  },
  {
   "cell_type": "code",
   "execution_count": 20,
   "id": "25edbf5b-3251-438c-ad4a-5ee4ffe44fb3",
   "metadata": {},
   "outputs": [
    {
     "data": {
      "text/plain": [
       "0.4025735294117646"
      ]
     },
     "execution_count": 20,
     "metadata": {},
     "output_type": "execute_result"
    }
   ],
   "source": [
    "from sklearn.metrics import r2_score\n",
    "r2_score(Y_test, Y_pred)"
   ]
  },
  {
   "cell_type": "markdown",
   "id": "2739413a-b2c9-4ccf-972e-ea37f59e8393",
   "metadata": {},
   "source": [
    "# Visualising the Training set results"
   ]
  },
  {
   "cell_type": "code",
   "execution_count": 25,
   "id": "1dc284d8-033d-4364-8fbe-d9e52a5e5ea0",
   "metadata": {},
   "outputs": [],
   "source": [
    "from matplotlib.colors import ListedColormap"
   ]
  },
  {
   "cell_type": "code",
   "execution_count": 26,
   "id": "c0efb347-250a-4845-bc8c-cf684e0feb50",
   "metadata": {},
   "outputs": [],
   "source": [
    "X_set, Y_set = X_train, Y_train\n",
    "X1, X2 = np.meshgrid(np.arange(start = X_set[:, 0].min() - 1, stop = X_set[:, 0].max() + 1, step = 0.01),np.arange(start = X_set[:, 1].min() - 1, stop = X_set[:, 1].max() + 1, step = 0.01))"
   ]
  },
  {
   "cell_type": "code",
   "execution_count": 27,
   "id": "db1f7d7a-4dc7-44b1-842a-4ed39b330ace",
   "metadata": {},
   "outputs": [
    {
     "name": "stdout",
     "output_type": "stream",
     "text": [
      "[[-2.99318916 -2.98318916 -2.97318916 ...  3.13681084  3.14681084\n",
      "   3.15681084]\n",
      " [-2.99318916 -2.98318916 -2.97318916 ...  3.13681084  3.14681084\n",
      "   3.15681084]\n",
      " [-2.99318916 -2.98318916 -2.97318916 ...  3.13681084  3.14681084\n",
      "   3.15681084]\n",
      " ...\n",
      " [-2.99318916 -2.98318916 -2.97318916 ...  3.13681084  3.14681084\n",
      "   3.15681084]\n",
      " [-2.99318916 -2.98318916 -2.97318916 ...  3.13681084  3.14681084\n",
      "   3.15681084]\n",
      " [-2.99318916 -2.98318916 -2.97318916 ...  3.13681084  3.14681084\n",
      "   3.15681084]] [[-2.58254245 -2.58254245 -2.58254245 ... -2.58254245 -2.58254245\n",
      "  -2.58254245]\n",
      " [-2.57254245 -2.57254245 -2.57254245 ... -2.57254245 -2.57254245\n",
      "  -2.57254245]\n",
      " [-2.56254245 -2.56254245 -2.56254245 ... -2.56254245 -2.56254245\n",
      "  -2.56254245]\n",
      " ...\n",
      " [ 3.30745755  3.30745755  3.30745755 ...  3.30745755  3.30745755\n",
      "   3.30745755]\n",
      " [ 3.31745755  3.31745755  3.31745755 ...  3.31745755  3.31745755\n",
      "   3.31745755]\n",
      " [ 3.32745755  3.32745755  3.32745755 ...  3.32745755  3.32745755\n",
      "   3.32745755]]\n"
     ]
    }
   ],
   "source": [
    "print(X1,X2)"
   ]
  },
  {
   "cell_type": "code",
   "execution_count": 36,
   "id": "f75c95bf-82f1-4d6f-ae9f-352bb5405633",
   "metadata": {},
   "outputs": [
    {
     "name": "stderr",
     "output_type": "stream",
     "text": [
      "*c* argument looks like a single numeric RGB or RGBA sequence, which should be avoided as value-mapping will have precedence in case its length matches with *x* & *y*.  Please use the *color* keyword-argument or provide a 2-D array with a single row if you intend to specify the same RGB or RGBA value for all points.\n",
      "*c* argument looks like a single numeric RGB or RGBA sequence, which should be avoided as value-mapping will have precedence in case its length matches with *x* & *y*.  Please use the *color* keyword-argument or provide a 2-D array with a single row if you intend to specify the same RGB or RGBA value for all points.\n"
     ]
    },
    {
     "data": {
      "text/plain": [
       "<matplotlib.legend.Legend at 0x284661d67c0>"
      ]
     },
     "execution_count": 36,
     "metadata": {},
     "output_type": "execute_result"
    },
    {
     "data": {
      "image/png": "[encoded data removed]",
      "text/plain": [
       "<Figure size 432x288 with 1 Axes>"
      ]
     },
     "metadata": {
      "needs_background": "light"
     },
     "output_type": "display_data"
    }
   ],
   "source": [
    "plt.contourf(X1, X2, logmodel.predict(np.array([X1.ravel(), X2.ravel()]).T).reshape(X1.shape),alpha = 0.75, cmap = ListedColormap(('red', 'green')))\n",
    "plt.xlim(X1.min(), X1.max())\n",
    "plt.ylim(X2.min(), X2.max())\n",
    "for i, j in enumerate(np.unique(Y_set)):\n",
    "   plt.scatter(X_set[Y_set == j, 0], X_set[Y_set == j, 1],\n",
    "               c = ListedColormap(('red', 'green'))(i), label = j)\n",
    "plt.title('Logistic Regression (Training set)')\n",
    "plt.xlabel('Age')\n",
    "plt.ylabel('Estimated Salary')\n",
    "plt.legend()"
   ]
  },
  {
   "cell_type": "markdown",
   "id": "0892c340-8ebc-4f45-81ec-c669c06179ef",
   "metadata": {},
   "source": [
    "# Visualising the Test set results"
   ]
  },
  {
   "cell_type": "code",
   "execution_count": 37,
   "id": "ac58e64f-fd7d-476e-9d24-67fd543d18c2",
   "metadata": {},
   "outputs": [],
   "source": [
    "from matplotlib.colors import ListedColormap"
   ]
  },
  {
   "cell_type": "code",
   "execution_count": 39,
   "id": "b1a9267a-edf9-444f-b7eb-1c3d0c1c0e0b",
   "metadata": {},
   "outputs": [],
   "source": [
    "X_set, Y_set = X_test, Y_test\n",
    "X1, X2 = np.meshgrid(np.arange(start = X_set[:, 0].min() - 1, stop = X_set[:, 0].max() + 1, step = 0.01),np.arange(start = X_set[:, 1].min() - 1, stop = X_set[:, 1].max() + 1, step = 0.01))"
   ]
  },
  {
   "cell_type": "code",
   "execution_count": 43,
   "id": "4020b8af-4d25-4db1-af37-17e29cae4a5b",
   "metadata": {},
   "outputs": [
    {
     "name": "stderr",
     "output_type": "stream",
     "text": [
      "*c* argument looks like a single numeric RGB or RGBA sequence, which should be avoided as value-mapping will have precedence in case its length matches with *x* & *y*.  Please use the *color* keyword-argument or provide a 2-D array with a single row if you intend to specify the same RGB or RGBA value for all points.\n",
      "*c* argument looks like a single numeric RGB or RGBA sequence, which should be avoided as value-mapping will have precedence in case its length matches with *x* & *y*.  Please use the *color* keyword-argument or provide a 2-D array with a single row if you intend to specify the same RGB or RGBA value for all points.\n"
     ]
    },
    {
     "data": {
      "text/plain": [
       "<matplotlib.legend.Legend at 0x284661b72e0>"
      ]
     },
     "execution_count": 43,
     "metadata": {},
     "output_type": "execute_result"
    },
    {
     "data": {
      "image/png": "[encoded data removed]",
      "text/plain": [
       "<Figure size 432x288 with 1 Axes>"
      ]
     },
     "metadata": {
      "needs_background": "light"
     },
     "output_type": "display_data"
    }
   ],
   "source": [
    "plt.contourf(X1, X2, logmodel.predict(np.array([X1.ravel(), X2.ravel()]).T).reshape(X1.shape),\n",
    "            alpha = 0.75, cmap = ListedColormap(('red', 'green')))\n",
    "plt.xlim(X1.min(), X1.max())\n",
    "plt.ylim(X2.min(), X2.max())\n",
    "for i, j in enumerate(np.unique(Y_set)):\n",
    "   plt.scatter(X_set[Y_set == j, 0], X_set[Y_set == j, 1],\n",
    "               c = ListedColormap(('red', 'green'))(i), label = j)\n",
    "plt.title('Logistic Regression (Test set)')\n",
    "plt.xlabel('Age')\n",
    "plt.ylabel('Estimated Salary')\n",
    "plt.legend()"
   ]
  }
 ],
 "metadata": {
  "kernelspec": {
   "display_name": "Python 3",
   "language": "python",
   "name": "python3"
  },
  "language_info": {
   "codemirror_mode": {
    "name": "ipython",
    "version": 3
   },
   "file_extension": ".py",
   "mimetype": "text/x-python",
   "name": "python",
   "nbconvert_exporter": "python",
   "pygments_lexer": "ipython3",
   "version": "3.8.8"
  }
 },
 "nbformat": 4,
 "nbformat_minor": 5
}
