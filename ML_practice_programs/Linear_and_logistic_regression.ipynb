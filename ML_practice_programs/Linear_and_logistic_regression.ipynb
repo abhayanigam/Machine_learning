{
 "cells": [
  {
   "cell_type": "markdown",
   "id": "f04e6042-6959-416c-9aaf-0ff237d161ae",
   "metadata": {},
   "source": [
    "## Importing Libraries"
   ]
  },
  {
   "cell_type": "code",
   "execution_count": 142,
   "id": "6e3f5bd1-290b-4a6f-a505-9d214eb1e593",
   "metadata": {},
   "outputs": [],
   "source": [
    "import pandas as pd \n",
    "import numpy as np\n",
    "import matplotlib.pyplot as plt"
   ]
  },
  {
   "cell_type": "markdown",
   "id": "981dae0f-c764-4a99-8a95-c8aacd804f65",
   "metadata": {},
   "source": [
    "label encoder is use to encode the data."
   ]
  },
  {
   "cell_type": "code",
   "execution_count": 143,
   "id": "7420dc44-1c9d-4773-b3bc-7c72d37e7f94",
   "metadata": {},
   "outputs": [],
   "source": [
    "from sklearn.preprocessing import LabelEncoder"
   ]
  },
  {
   "cell_type": "markdown",
   "id": "9bf8d684-20fa-4b2b-943d-19f26c72da09",
   "metadata": {},
   "source": [
    "# Loading Dataset"
   ]
  },
  {
   "cell_type": "code",
   "execution_count": 144,
   "id": "fe0e2c04-6d4f-402e-9d75-52e12e4d8826",
   "metadata": {
    "tags": []
   },
   "outputs": [],
   "source": [
    "dataset = pd.read_csv('datasets/flower.csv')"
   ]
  },
  {
   "cell_type": "code",
   "execution_count": 145,
   "id": "6b706abd-2c5c-4174-bf5d-34653fb627a6",
   "metadata": {},
   "outputs": [
    {
     "data": {
      "text/html": [
       "<div>\n",
       "<style scoped>\n",
       "    .dataframe tbody tr th:only-of-type {\n",
       "        vertical-align: middle;\n",
       "    }\n",
       "\n",
       "    .dataframe tbody tr th {\n",
       "        vertical-align: top;\n",
       "    }\n",
       "\n",
       "    .dataframe thead th {\n",
       "        text-align: right;\n",
       "    }\n",
       "</style>\n",
       "<table border=\"1\" class=\"dataframe\">\n",
       "  <thead>\n",
       "    <tr style=\"text-align: right;\">\n",
       "      <th></th>\n",
       "      <th>Dataset order</th>\n",
       "      <th>Sepal length</th>\n",
       "      <th>Sepal width</th>\n",
       "      <th>Petal length</th>\n",
       "      <th>Petal width</th>\n",
       "      <th>Species</th>\n",
       "    </tr>\n",
       "  </thead>\n",
       "  <tbody>\n",
       "    <tr>\n",
       "      <th>0</th>\n",
       "      <td>1</td>\n",
       "      <td>5.1</td>\n",
       "      <td>3.5</td>\n",
       "      <td>1.4</td>\n",
       "      <td>0.2</td>\n",
       "      <td>I.�setosa</td>\n",
       "    </tr>\n",
       "    <tr>\n",
       "      <th>1</th>\n",
       "      <td>2</td>\n",
       "      <td>4.9</td>\n",
       "      <td>3.0</td>\n",
       "      <td>1.4</td>\n",
       "      <td>0.2</td>\n",
       "      <td>I.�setosa</td>\n",
       "    </tr>\n",
       "    <tr>\n",
       "      <th>2</th>\n",
       "      <td>3</td>\n",
       "      <td>4.7</td>\n",
       "      <td>3.2</td>\n",
       "      <td>1.3</td>\n",
       "      <td>0.2</td>\n",
       "      <td>I.�setosa</td>\n",
       "    </tr>\n",
       "    <tr>\n",
       "      <th>3</th>\n",
       "      <td>4</td>\n",
       "      <td>4.6</td>\n",
       "      <td>3.1</td>\n",
       "      <td>1.5</td>\n",
       "      <td>0.2</td>\n",
       "      <td>I.�setosa</td>\n",
       "    </tr>\n",
       "    <tr>\n",
       "      <th>4</th>\n",
       "      <td>5</td>\n",
       "      <td>5.0</td>\n",
       "      <td>3.6</td>\n",
       "      <td>1.4</td>\n",
       "      <td>0.3</td>\n",
       "      <td>I.�setosa</td>\n",
       "    </tr>\n",
       "    <tr>\n",
       "      <th>...</th>\n",
       "      <td>...</td>\n",
       "      <td>...</td>\n",
       "      <td>...</td>\n",
       "      <td>...</td>\n",
       "      <td>...</td>\n",
       "      <td>...</td>\n",
       "    </tr>\n",
       "    <tr>\n",
       "      <th>145</th>\n",
       "      <td>146</td>\n",
       "      <td>6.7</td>\n",
       "      <td>3.0</td>\n",
       "      <td>5.2</td>\n",
       "      <td>2.3</td>\n",
       "      <td>I.�virginica</td>\n",
       "    </tr>\n",
       "    <tr>\n",
       "      <th>146</th>\n",
       "      <td>147</td>\n",
       "      <td>6.3</td>\n",
       "      <td>2.5</td>\n",
       "      <td>5.0</td>\n",
       "      <td>1.9</td>\n",
       "      <td>I.�virginica</td>\n",
       "    </tr>\n",
       "    <tr>\n",
       "      <th>147</th>\n",
       "      <td>148</td>\n",
       "      <td>6.5</td>\n",
       "      <td>3.0</td>\n",
       "      <td>5.2</td>\n",
       "      <td>2.0</td>\n",
       "      <td>I.�virginica</td>\n",
       "    </tr>\n",
       "    <tr>\n",
       "      <th>148</th>\n",
       "      <td>149</td>\n",
       "      <td>6.2</td>\n",
       "      <td>3.4</td>\n",
       "      <td>5.4</td>\n",
       "      <td>2.3</td>\n",
       "      <td>I.�virginica</td>\n",
       "    </tr>\n",
       "    <tr>\n",
       "      <th>149</th>\n",
       "      <td>150</td>\n",
       "      <td>5.9</td>\n",
       "      <td>3.0</td>\n",
       "      <td>5.1</td>\n",
       "      <td>1.8</td>\n",
       "      <td>I.�virginica</td>\n",
       "    </tr>\n",
       "  </tbody>\n",
       "</table>\n",
       "<p>150 rows × 6 columns</p>\n",
       "</div>"
      ],
      "text/plain": [
       "     Dataset order  Sepal length  Sepal width  Petal length  Petal width  \\\n",
       "0                1           5.1          3.5           1.4          0.2   \n",
       "1                2           4.9          3.0           1.4          0.2   \n",
       "2                3           4.7          3.2           1.3          0.2   \n",
       "3                4           4.6          3.1           1.5          0.2   \n",
       "4                5           5.0          3.6           1.4          0.3   \n",
       "..             ...           ...          ...           ...          ...   \n",
       "145            146           6.7          3.0           5.2          2.3   \n",
       "146            147           6.3          2.5           5.0          1.9   \n",
       "147            148           6.5          3.0           5.2          2.0   \n",
       "148            149           6.2          3.4           5.4          2.3   \n",
       "149            150           5.9          3.0           5.1          1.8   \n",
       "\n",
       "          Species  \n",
       "0       I.�setosa  \n",
       "1       I.�setosa  \n",
       "2       I.�setosa  \n",
       "3       I.�setosa  \n",
       "4       I.�setosa  \n",
       "..            ...  \n",
       "145  I.�virginica  \n",
       "146  I.�virginica  \n",
       "147  I.�virginica  \n",
       "148  I.�virginica  \n",
       "149  I.�virginica  \n",
       "\n",
       "[150 rows x 6 columns]"
      ]
     },
     "execution_count": 145,
     "metadata": {},
     "output_type": "execute_result"
    }
   ],
   "source": [
    "dataset"
   ]
  },
  {
   "cell_type": "code",
   "execution_count": 146,
   "id": "26b8603f-a2bf-4043-9180-a3e49af07893",
   "metadata": {},
   "outputs": [],
   "source": [
    "x = dataset.iloc[:,1:5].values\n",
    "y = dataset.iloc[:,5].values"
   ]
  },
  {
   "cell_type": "code",
   "execution_count": 147,
   "id": "262bb2a3-cbd3-4843-9431-99a6f5153fb6",
   "metadata": {},
   "outputs": [],
   "source": [
    "labelencoder_y = LabelEncoder()\n",
    "y = labelencoder_y.fit_transform(y) "
   ]
  },
  {
   "cell_type": "code",
   "execution_count": 148,
   "id": "7e05ddcf-11a7-457a-9097-df0517f82e32",
   "metadata": {},
   "outputs": [
    {
     "data": {
      "text/plain": [
       "array([0, 0, 0, 0, 0, 0, 0, 0, 0, 0, 0, 0, 0, 0, 0, 0, 0, 0, 0, 0, 0, 0,\n",
       "       0, 0, 0, 0, 0, 0, 0, 0, 0, 0, 0, 0, 0, 0, 0, 0, 0, 0, 0, 0, 0, 0,\n",
       "       0, 0, 0, 0, 0, 0, 1, 1, 1, 1, 1, 1, 1, 1, 1, 1, 1, 1, 1, 1, 1, 1,\n",
       "       1, 1, 1, 1, 1, 1, 1, 1, 1, 1, 1, 1, 1, 1, 1, 1, 1, 1, 1, 1, 1, 1,\n",
       "       1, 1, 1, 1, 1, 1, 1, 1, 1, 1, 1, 1, 2, 2, 2, 2, 2, 2, 2, 2, 2, 2,\n",
       "       2, 2, 2, 2, 2, 2, 2, 2, 2, 2, 2, 2, 2, 2, 2, 2, 2, 2, 2, 2, 2, 2,\n",
       "       2, 2, 2, 2, 2, 2, 2, 2, 2, 2, 2, 2, 2, 2, 2, 2, 2, 2])"
      ]
     },
     "execution_count": 148,
     "metadata": {},
     "output_type": "execute_result"
    }
   ],
   "source": [
    "y"
   ]
  },
  {
   "cell_type": "markdown",
   "id": "b4d4bbfd-17ae-4331-9474-13e4ea63a06b",
   "metadata": {},
   "source": [
    "## Train Test and Splitting"
   ]
  },
  {
   "cell_type": "code",
   "execution_count": 149,
   "id": "5ad05d61-28ef-4d64-b287-1c021b38d4aa",
   "metadata": {},
   "outputs": [],
   "source": [
    "from sklearn.model_selection import train_test_split\n",
    "x_train, x_test, y_train, y_test = train_test_split(x,y,test_size = 0.2) #0.2 or 1/4"
   ]
  },
  {
   "cell_type": "markdown",
   "id": "6a745117-8749-439e-b5f9-ea80d550aa77",
   "metadata": {},
   "source": [
    "## Fitting Simple Linear Regression Model to train the set"
   ]
  },
  {
   "cell_type": "code",
   "execution_count": 150,
   "id": "4a2c7970-d1fc-4134-b3b4-1ad8231d2e15",
   "metadata": {},
   "outputs": [
    {
     "data": {
      "text/plain": [
       "LinearRegression()"
      ]
     },
     "execution_count": 150,
     "metadata": {},
     "output_type": "execute_result"
    }
   ],
   "source": [
    "from sklearn.linear_model import LinearRegression\n",
    "regressor = LinearRegression()\n",
    "regressor.fit(x_train, y_train)"
   ]
  },
  {
   "cell_type": "markdown",
   "id": "816169d5-3ce4-4164-a05d-11c4b6f445c7",
   "metadata": {},
   "source": [
    "## Predecting the Result"
   ]
  },
  {
   "cell_type": "code",
   "execution_count": 151,
   "id": "d2bf58e5-e4fa-400e-b2c2-30f30afb01d5",
   "metadata": {},
   "outputs": [],
   "source": [
    "Y_pred = regressor.predict(x_test)"
   ]
  },
  {
   "cell_type": "markdown",
   "id": "b43da8de-cca1-4dd5-9db5-748d9e2e1b5f",
   "metadata": {},
   "source": [
    "## Calculating Accuracy of linear regression"
   ]
  },
  {
   "cell_type": "code",
   "execution_count": 152,
   "id": "c1d57a18-dfde-46eb-a930-49dc362d16e1",
   "metadata": {},
   "outputs": [
    {
     "name": "stdout",
     "output_type": "stream",
     "text": [
      "92.45966011901747 %\n"
     ]
    }
   ],
   "source": [
    "r2_score = regressor.score(x_test,y_test)\n",
    "print(r2_score*100,'%')"
   ]
  },
  {
   "cell_type": "markdown",
   "id": "cdc451fa-4f37-4aa2-bac0-7a2f373f7f39",
   "metadata": {},
   "source": [
    "## Fitting Logistic Regression Model to train the set"
   ]
  },
  {
   "cell_type": "code",
   "execution_count": 153,
   "id": "497f4bb1-8d7a-4d1c-9711-8c04c52715a8",
   "metadata": {},
   "outputs": [
    {
     "data": {
      "text/plain": [
       "LogisticRegression()"
      ]
     },
     "execution_count": 153,
     "metadata": {},
     "output_type": "execute_result"
    }
   ],
   "source": [
    "from sklearn.linear_model import LogisticRegression\n",
    "logmodel = LogisticRegression()\n",
    "logmodel.fit(x_train,y_train)"
   ]
  },
  {
   "cell_type": "markdown",
   "id": "05dd5ce6-d754-47a9-b378-7cce27b5d341",
   "metadata": {},
   "source": [
    "## Predecting the Result"
   ]
  },
  {
   "cell_type": "code",
   "execution_count": 154,
   "id": "1bff0f02-bbb9-46d3-bbd7-a5f91748471e",
   "metadata": {},
   "outputs": [],
   "source": [
    "y_pred = logmodel.predict(x_test)"
   ]
  },
  {
   "cell_type": "markdown",
   "id": "d8702896-9074-4585-baf3-c14601767826",
   "metadata": {},
   "source": [
    "## To check the prediction is correct or not."
   ]
  },
  {
   "cell_type": "code",
   "execution_count": 155,
   "id": "4417b751-641a-4523-ad52-474ad3c3434d",
   "metadata": {},
   "outputs": [
    {
     "data": {
      "text/plain": [
       "array([[ 5,  0,  0],\n",
       "       [ 0, 11,  0],\n",
       "       [ 0,  0, 14]], dtype=int64)"
      ]
     },
     "execution_count": 155,
     "metadata": {},
     "output_type": "execute_result"
    }
   ],
   "source": [
    "from sklearn.metrics import confusion_matrix\n",
    "confusion_matrix(y_test,y_pred)"
   ]
  },
  {
   "cell_type": "markdown",
   "id": "263bd23b-f1eb-46f3-b940-114813b02ceb",
   "metadata": {},
   "source": [
    "## Calculating Accuracy of logistic regression"
   ]
  },
  {
   "cell_type": "code",
   "execution_count": 156,
   "id": "d7fdd52c-6b58-4947-86af-850ff358310b",
   "metadata": {},
   "outputs": [
    {
     "name": "stdout",
     "output_type": "stream",
     "text": [
      "100.0 %\n"
     ]
    }
   ],
   "source": [
    "r2_score = logmodel.score(x_test,y_test)\n",
    "print(r2_score*100,'%')"
   ]
  }
 ],
 "metadata": {
  "kernelspec": {
   "display_name": "Python 3",
   "language": "python",
   "name": "python3"
  },
  "language_info": {
   "codemirror_mode": {
    "name": "ipython",
    "version": 3
   },
   "file_extension": ".py",
   "mimetype": "text/x-python",
   "name": "python",
   "nbconvert_exporter": "python",
   "pygments_lexer": "ipython3",
   "version": "3.8.8"
  }
 },
 "nbformat": 4,
 "nbformat_minor": 5
}
